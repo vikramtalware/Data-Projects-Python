{
  "nbformat": 4,
  "nbformat_minor": 0,
  "metadata": {
    "colab": {
      "provenance": [],
      "authorship_tag": "ABX9TyOj7WOseAAkGH7byeQDQs+2",
      "include_colab_link": true
    },
    "kernelspec": {
      "name": "python3",
      "display_name": "Python 3"
    },
    "language_info": {
      "name": "python"
    }
  },
  "cells": [
    {
      "cell_type": "markdown",
      "metadata": {
        "id": "view-in-github",
        "colab_type": "text"
      },
      "source": [
        "<a href=\"https://colab.research.google.com/github/vikramtalware/Data-Projects-Python/blob/master/HackerRank/HackerRank_Python.ipynb\" target=\"_parent\"><img src=\"https://colab.research.google.com/assets/colab-badge.svg\" alt=\"Open In Colab\"/></a>"
      ]
    },
    {
      "cell_type": "markdown",
      "source": [
        "\n",
        "# HackerRank - Python\n",
        "\n",
        "---\n",
        "**Introduction**\n",
        "\n",
        "---"
      ],
      "metadata": {
        "id": "QLblHohBiKKn"
      }
    },
    {
      "cell_type": "markdown",
      "source": [
        "[Say \"Hello, World!\" With Python](https://www.hackerrank.com/challenges/py-hello-world/problem?isFullScreen=true)"
      ],
      "metadata": {
        "id": "-VVWbBSZjypn"
      }
    },
    {
      "cell_type": "code",
      "source": [
        "print(\"Hello, World!\")"
      ],
      "metadata": {
        "colab": {
          "base_uri": "https://localhost:8080/"
        },
        "id": "8DPb0mPTir3R",
        "outputId": "0b8e0ba1-4219-433b-ae9c-4365dec34af8"
      },
      "execution_count": null,
      "outputs": [
        {
          "output_type": "stream",
          "name": "stdout",
          "text": [
            "Hello, World!\n"
          ]
        }
      ]
    },
    {
      "cell_type": "markdown",
      "source": [
        "[Python If-Else](https://www.hackerrank.com/challenges/py-if-else/problem?isFullScreen=true)\n",
        "\n"
      ],
      "metadata": {
        "id": "JA87EGb1kNWZ"
      }
    },
    {
      "cell_type": "code",
      "source": [
        "import math\n",
        "import os\n",
        "import random\n",
        "import re\n",
        "import sys\n",
        "\n",
        "if __name__ == '__main__':\n",
        "    n = int(input().strip())\n",
        "\n",
        "    if n%2 != 0 or (n%2 == 0 and 6 <= n <= 20):\n",
        "        print(\"Weird\")\n",
        "    elif n%2 == 0:\n",
        "        print(\"Not Weird\")"
      ],
      "metadata": {
        "colab": {
          "base_uri": "https://localhost:8080/"
        },
        "id": "t7jw06ifkXEr",
        "outputId": "2f98cabd-bbdb-437c-c3f6-30ae9549cc6d"
      },
      "execution_count": null,
      "outputs": [
        {
          "output_type": "stream",
          "name": "stdout",
          "text": [
            "5\n",
            "Weird\n"
          ]
        }
      ]
    },
    {
      "cell_type": "markdown",
      "source": [
        "[Arithematic Operators](https://www.hackerrank.com/challenges/python-arithmetic-operators/problem?isFullScreen=true)"
      ],
      "metadata": {
        "id": "4BxOaF5DkxyU"
      }
    },
    {
      "cell_type": "code",
      "source": [
        "if __name__ == '__main__':\n",
        "    a = int(input())\n",
        "    b = int(input())\n",
        "\n",
        "    print(a+b)\n",
        "    print(a-b)\n",
        "    print(a*b)"
      ],
      "metadata": {
        "colab": {
          "base_uri": "https://localhost:8080/"
        },
        "id": "yTeFRtEEkxMO",
        "outputId": "9848e751-6726-4851-f797-c224b4eebe3b"
      },
      "execution_count": null,
      "outputs": [
        {
          "output_type": "stream",
          "name": "stdout",
          "text": [
            "3\n",
            "4\n",
            "7\n",
            "-1\n",
            "12\n"
          ]
        }
      ]
    },
    {
      "cell_type": "markdown",
      "source": [
        "[Division](https://www.hackerrank.com/challenges/python-division/problem?isFullScreen=true)"
      ],
      "metadata": {
        "id": "VdBlN9h9rjhj"
      }
    },
    {
      "cell_type": "code",
      "source": [
        "if __name__ == '__main__':\n",
        "    a = int(input())\n",
        "    b = int(input())\n",
        "\n",
        "    print(a//b) # integer division\n",
        "    print(a/b) # float division"
      ],
      "metadata": {
        "colab": {
          "base_uri": "https://localhost:8080/"
        },
        "id": "5lzdwolnswnx",
        "outputId": "ba98292e-de8e-43b3-ad55-b708ab71dad0"
      },
      "execution_count": null,
      "outputs": [
        {
          "output_type": "stream",
          "name": "stdout",
          "text": [
            "2\n",
            "4\n",
            "0\n",
            "0.5\n"
          ]
        }
      ]
    },
    {
      "cell_type": "markdown",
      "source": [
        "[Loops](https://www.hackerrank.com/challenges/python-loops/problem?isFullScreen=true)"
      ],
      "metadata": {
        "id": "lJlfYNkttQnN"
      }
    },
    {
      "cell_type": "code",
      "source": [
        "if __name__ == '__main__':\n",
        "    n = int(input())\n",
        "\n",
        "    for i in range(n):\n",
        "        print(i*i)"
      ],
      "metadata": {
        "colab": {
          "base_uri": "https://localhost:8080/"
        },
        "id": "i4O-sMFBtgGH",
        "outputId": "185dbe68-ef65-407d-bb51-7180a346a273"
      },
      "execution_count": null,
      "outputs": [
        {
          "output_type": "stream",
          "name": "stdout",
          "text": [
            "2\n",
            "0\n",
            "1\n"
          ]
        }
      ]
    },
    {
      "cell_type": "markdown",
      "source": [
        "[Print Function](https://www.hackerrank.com/challenges/python-print/problem?isFullScreen=true)"
      ],
      "metadata": {
        "id": "O9NrWvS3zYIY"
      }
    },
    {
      "cell_type": "code",
      "source": [
        "if __name__ == '__main__':\n",
        "    n = int(input())\n",
        "\n",
        "    for i in range(n):\n",
        "        print(i+1, end='')"
      ],
      "metadata": {
        "colab": {
          "base_uri": "https://localhost:8080/"
        },
        "id": "Yzu1moKA1ST9",
        "outputId": "4978ca50-12d2-4627-fdda-ead06b25a56f"
      },
      "execution_count": null,
      "outputs": [
        {
          "output_type": "stream",
          "name": "stdout",
          "text": [
            "3\n",
            "123"
          ]
        }
      ]
    },
    {
      "cell_type": "markdown",
      "source": [
        "[Write a Function](https://www.hackerrank.com/challenges/write-a-function/problem?isFullScreen=true)"
      ],
      "metadata": {
        "id": "ViHz_moo1hP-"
      }
    },
    {
      "cell_type": "code",
      "source": [
        "def is_leap(year):\n",
        "    leap = False\n",
        "    if year % 4 == 0 and (year%100 != 0 or year%400 == 0):\n",
        "      return True\n",
        "    else:\n",
        "      return False\n",
        "    return leap\n",
        "\n",
        "year = int(input())\n",
        "print(is_leap(year))"
      ],
      "metadata": {
        "colab": {
          "base_uri": "https://localhost:8080/"
        },
        "id": "nyWPm2p747nr",
        "outputId": "798c9fa1-c594-49ee-990c-f2ac81f64579"
      },
      "execution_count": null,
      "outputs": [
        {
          "output_type": "stream",
          "name": "stdout",
          "text": [
            "2000\n",
            "True\n"
          ]
        }
      ]
    },
    {
      "cell_type": "markdown",
      "source": [
        "---\n",
        "**Basic Data Types**\n",
        "\n",
        "---"
      ],
      "metadata": {
        "id": "Wfd3C1J4GVCk"
      }
    },
    {
      "cell_type": "markdown",
      "source": [
        "[Lists](https://www.hackerrank.com/challenges/python-lists/problem?isFullScreen=true)"
      ],
      "metadata": {
        "id": "MZCBtvKI-19h"
      }
    },
    {
      "cell_type": "code",
      "source": [
        "if __name__ == '__main__':\n",
        "    N = int(input())\n",
        "    lst = []\n",
        "    for _ in range(N):\n",
        "        inputs = input().split()\n",
        "        command = inputs[0]\n",
        "        values = [eval(_) for _ in inputs[1:]]\n",
        "        if command == 'insert':\n",
        "            lst.insert(values[0], values[1])\n",
        "        elif command == 'print':\n",
        "            print(lst)\n",
        "        elif command == 'remove':\n",
        "            lst.remove(values[0])\n",
        "        elif command == 'append':\n",
        "            lst.append(values[0])\n",
        "        elif command == 'sort':\n",
        "            lst.sort()\n",
        "        elif command == 'pop':\n",
        "            lst.pop()\n",
        "        elif command == 'reverse':\n",
        "            lst.reverse()"
      ],
      "metadata": {
        "colab": {
          "base_uri": "https://localhost:8080/"
        },
        "id": "NUBm8pDdGWvo",
        "outputId": "15d2005e-b34d-46c1-bcf5-bf6060eea7ec"
      },
      "execution_count": null,
      "outputs": [
        {
          "output_type": "stream",
          "name": "stdout",
          "text": [
            "12\n",
            "insert 0 5\n",
            "insert 1 10\n",
            "insert 0 6\n",
            "print\n",
            "[6, 5, 10]\n",
            "remove 6\n",
            "append 9\n",
            "append 1\n",
            "sort\n",
            "print\n",
            "[1, 5, 9, 10]\n",
            "pop\n",
            "reverse\n",
            "print\n",
            "[9, 5, 1]\n",
            "[9, 5, 1]\n"
          ]
        }
      ]
    },
    {
      "cell_type": "markdown",
      "source": [
        "[Tuples](https://www.hackerrank.com/domains/python?filters%5Bsubdomains%5D%5B%5D=py-basic-data-types)"
      ],
      "metadata": {
        "id": "uN5KLZQh-8zB"
      }
    },
    {
      "cell_type": "code",
      "source": [
        "if __name__ == '__main__':\n",
        "    n = int(input())\n",
        "    integer_list = map(int, input().split())\n",
        "    t = tuple(integer_list)\n",
        "    print(hash(t))"
      ],
      "metadata": {
        "colab": {
          "base_uri": "https://localhost:8080/"
        },
        "id": "yFnQ656R_7U3",
        "outputId": "e1af50d8-9faa-4e7f-fbc9-f7bdc2c06e55"
      },
      "execution_count": null,
      "outputs": [
        {
          "output_type": "stream",
          "name": "stdout",
          "text": [
            "2\n",
            "1 2\n",
            "-3550055125485641917\n"
          ]
        }
      ]
    },
    {
      "cell_type": "markdown",
      "source": [
        "[List Comprehensions](https://www.hackerrank.com/challenges/list-comprehensions/problem?isFullScreen=true)"
      ],
      "metadata": {
        "id": "iWtVg_64Y6I-"
      }
    },
    {
      "cell_type": "code",
      "source": [
        "if __name__ == '__main__':\n",
        "    x = int(input())\n",
        "    y = int(input())\n",
        "    z = int(input())\n",
        "    n = int(input())\n",
        "\n",
        "    lst = [[i,j,k] for i in range(x+1) for j in range(y+1) for k in range(z+1) if i+j+k != n]\n",
        "    print(sorted(lst))\n"
      ],
      "metadata": {
        "colab": {
          "base_uri": "https://localhost:8080/"
        },
        "id": "zKSQy3crH6U0",
        "outputId": "a4fb0e6f-be4a-4f72-c801-53b7e4e4920d"
      },
      "execution_count": null,
      "outputs": [
        {
          "output_type": "stream",
          "name": "stdout",
          "text": [
            "1\n",
            "1\n",
            "2\n",
            "3\n",
            "[[0, 0, 0], [0, 0, 1], [0, 0, 2], [0, 1, 0], [0, 1, 1], [1, 0, 0], [1, 0, 1], [1, 1, 0], [1, 1, 2]]\n"
          ]
        }
      ]
    },
    {
      "cell_type": "markdown",
      "source": [
        "[Find the Runner-Up Score](https://www.hackerrank.com/challenges/find-second-maximum-number-in-a-list/problem?isFullScreen=true)"
      ],
      "metadata": {
        "id": "Ze8sRJUMZg0x"
      }
    },
    {
      "cell_type": "code",
      "source": [
        "if __name__ == '__main__':\n",
        "    n = int(input())\n",
        "    arr = map(int, input().split())\n",
        "    l = []\n",
        "    if 2 <= n <= 10:\n",
        "        for i in sorted(set(arr)):\n",
        "            l.append(i)\n",
        "        print(l[-2])"
      ],
      "metadata": {
        "colab": {
          "base_uri": "https://localhost:8080/"
        },
        "id": "97A1z5ukZj9g",
        "outputId": "258c19af-2023-4061-8dd6-ea96d4fa5b75"
      },
      "execution_count": null,
      "outputs": [
        {
          "output_type": "stream",
          "name": "stdout",
          "text": [
            "5\n",
            "2 3 6 6 4\n",
            "4\n"
          ]
        }
      ]
    },
    {
      "cell_type": "markdown",
      "source": [
        "[Nested Lists](https://www.hackerrank.com/challenges/nested-list/problem?isFullScreen=true)"
      ],
      "metadata": {
        "id": "CaDiziuWo8qZ"
      }
    },
    {
      "cell_type": "code",
      "source": [
        "if __name__ == '__main__':\n",
        "  l1 = []\n",
        "  for _ in range(int(input())):\n",
        "      name = input()\n",
        "      score = float(input())\n",
        "      l1.append([name, score])\n",
        "\n",
        "  l2 = []\n",
        "  for i in range(len(l1)):\n",
        "    l2.append(l1[i][1])\n",
        "  s1 = sorted(set(l2))\n",
        "\n",
        "  l3 = []\n",
        "  for i in range(len(l1)):\n",
        "    if l1[i][1] == s1[1]:\n",
        "      l3.append(l1[i][0])\n",
        "\n",
        "  for i in sorted(l3):\n",
        "    print(i)"
      ],
      "metadata": {
        "colab": {
          "base_uri": "https://localhost:8080/"
        },
        "id": "UKHcgkDyo9TC",
        "outputId": "758a757a-785c-4984-925e-1adc0e255944"
      },
      "execution_count": null,
      "outputs": [
        {
          "output_type": "stream",
          "name": "stdout",
          "text": [
            "5\n",
            "Harry\n",
            "37.21\n",
            "Berry\n",
            "37.21\n",
            "Tina\n",
            "37.2\n",
            "Akriti\n",
            "41\n",
            "Harsh\n",
            "39\n",
            "Berry\n",
            "Harry\n"
          ]
        }
      ]
    },
    {
      "cell_type": "markdown",
      "source": [
        "\n",
        "[Finding the Percentage](https://www.hackerrank.com/challenges/finding-the-percentage/problem?isFullScreen=true)"
      ],
      "metadata": {
        "id": "hulXLf8ZkhSW"
      }
    },
    {
      "cell_type": "code",
      "source": [
        "if __name__ == '__main__':\n",
        "    n = int(input())\n",
        "    student_marks = {}\n",
        "    for _ in range(n):\n",
        "        name, *marks = input().split()\n",
        "        scores = list(map(float, marks))\n",
        "        student_marks[name] = scores\n",
        "    query_name = input()\n",
        "\n",
        "    avg = sum(student_marks[query_name])/len(student_marks[query_name])\n",
        "    print(\"{:.2f}\".format(avg))"
      ],
      "metadata": {
        "colab": {
          "base_uri": "https://localhost:8080/"
        },
        "id": "eg6gub5dkiCx",
        "outputId": "19b95d7a-5c12-4ce9-aafa-860c274df185"
      },
      "execution_count": null,
      "outputs": [
        {
          "output_type": "stream",
          "name": "stdout",
          "text": [
            "3\n",
            "Krishna 67 68 69\n",
            "Arjun 70 98 63\n",
            "Malika 52 56 60\n",
            "Arjun\n",
            "77.00\n"
          ]
        }
      ]
    },
    {
      "cell_type": "markdown",
      "source": [
        "---\n",
        "**Strings**\n",
        "\n",
        "---"
      ],
      "metadata": {
        "id": "Ysvr2B6Q_Nw4"
      }
    },
    {
      "cell_type": "markdown",
      "source": [
        "[Swap Case](https://www.hackerrank.com/challenges/swap-case/problem?isFullScreen=true)"
      ],
      "metadata": {
        "id": "TCfvGE0e_Xn2"
      }
    },
    {
      "cell_type": "code",
      "source": [
        "def swap_case(s):\n",
        "    result = ''\n",
        "    for _ in s:\n",
        "        if _.islower():\n",
        "            result += _.upper()\n",
        "        elif _.isupper():\n",
        "            result += _.lower()\n",
        "        else:\n",
        "            result += _\n",
        "    return result\n",
        "\n",
        "if __name__ == '__main__':\n",
        "    s = input()\n",
        "    result = swap_case(s)\n",
        "    print(result)"
      ],
      "metadata": {
        "colab": {
          "base_uri": "https://localhost:8080/"
        },
        "id": "cz58A_QD_Q2Y",
        "outputId": "650cd9b1-6986-47e6-d9d6-105076e0a860"
      },
      "execution_count": null,
      "outputs": [
        {
          "output_type": "stream",
          "name": "stdout",
          "text": [
            "HackerRank.com presents \"Pythonist 2\".\n",
            "hACKERrANK.COM PRESENTS \"pYTHONIST 2\".\n"
          ]
        }
      ]
    },
    {
      "cell_type": "markdown",
      "source": [
        "[String Split and Join](https://www.hackerrank.com/challenges/python-string-split-and-join/problem?isFullScreen=true)"
      ],
      "metadata": {
        "id": "itrE21E8q1a-"
      }
    },
    {
      "cell_type": "code",
      "source": [
        "def split_and_join(line):\n",
        "    line = line.split(\" \")\n",
        "    line = (\"-\").join(line)\n",
        "    return line\n",
        "\n",
        "if __name__ == '__main__':\n",
        "    line = input()\n",
        "    result = split_and_join(line)\n",
        "    print(result)"
      ],
      "metadata": {
        "colab": {
          "base_uri": "https://localhost:8080/"
        },
        "id": "3hhqM8KNq6te",
        "outputId": "80ef9062-97e1-4908-d458-3370abf96b28"
      },
      "execution_count": null,
      "outputs": [
        {
          "output_type": "stream",
          "name": "stdout",
          "text": [
            "this is a string\n",
            "this-is-a-string\n"
          ]
        }
      ]
    },
    {
      "cell_type": "markdown",
      "source": [
        "[What's Your Name?](https://www.hackerrank.com/challenges/whats-your-name/problem?isFullScreen=true)"
      ],
      "metadata": {
        "id": "iwYm2jvcsJEh"
      }
    },
    {
      "cell_type": "code",
      "source": [
        "def print_full_name(first, last):\n",
        "    print(f\"Hello {first} {last}! You just delved into python.\")\n",
        "\n",
        "if __name__ == '__main__':\n",
        "    first_name = input()\n",
        "    last_name = input()\n",
        "    print_full_name(first_name, last_name)"
      ],
      "metadata": {
        "colab": {
          "base_uri": "https://localhost:8080/"
        },
        "id": "Rr3x-h88sJe_",
        "outputId": "652d1ba5-b1dc-4071-b45f-402926219bed"
      },
      "execution_count": null,
      "outputs": [
        {
          "output_type": "stream",
          "name": "stdout",
          "text": [
            "Vikram\n",
            "Talware\n",
            "Hello Vikram Talware! You just delved into python.\n"
          ]
        }
      ]
    },
    {
      "cell_type": "markdown",
      "source": [
        "[Mutations](https://www.hackerrank.com/challenges/python-mutations/problem?isFullScreen=true)"
      ],
      "metadata": {
        "id": "1vwo_4XSuWEm"
      }
    },
    {
      "cell_type": "code",
      "source": [
        "def mutate_string(string, position, character):\n",
        "    string = list(string)\n",
        "    string[position] = character\n",
        "    string = ''.join(string)\n",
        "    return string\n",
        "\n",
        "if __name__ == '__main__':\n",
        "    s = input()\n",
        "    i, c = input().split()\n",
        "    s_new = mutate_string(s, int(i), c)\n",
        "    print(s_new)"
      ],
      "metadata": {
        "colab": {
          "base_uri": "https://localhost:8080/"
        },
        "id": "ASpBTbPHuWkd",
        "outputId": "6d74f9a4-1da1-40d5-aca0-b4c8f0f1ddb9"
      },
      "execution_count": null,
      "outputs": [
        {
          "output_type": "stream",
          "name": "stdout",
          "text": [
            "abracadabra\n",
            "5 k\n",
            "abrackdabra\n"
          ]
        }
      ]
    },
    {
      "cell_type": "markdown",
      "source": [
        "[Find a string](https://www.hackerrank.com/challenges/find-a-string/problem?isFullScreen=true)"
      ],
      "metadata": {
        "id": "6_28eG_aB_-9"
      }
    },
    {
      "cell_type": "code",
      "source": [
        "def count_substring(string, sub_string):\n",
        "    count = 0\n",
        "    index = 0\n",
        "    for i in range(len(string)):\n",
        "        j = string.find(sub_string, index) #2\n",
        "        if (j != -1):\n",
        "            index = j+1\n",
        "            count += 1\n",
        "    return count\n",
        "\n",
        "if __name__ == '__main__':\n",
        "    string = input().strip()\n",
        "    sub_string = input().strip()\n",
        "\n",
        "    count = count_substring(string, sub_string)\n",
        "    print(count)"
      ],
      "metadata": {
        "id": "iA-wktEICA4r"
      },
      "execution_count": null,
      "outputs": []
    },
    {
      "cell_type": "markdown",
      "source": [
        "[String Validators](https://www.hackerrank.com/challenges/string-validators/problem?isFullScreen=true)"
      ],
      "metadata": {
        "id": "YkXJlLwoNWmH"
      }
    },
    {
      "cell_type": "code",
      "source": [
        "if __name__ == '__main__':\n",
        "    s = input()\n",
        "\n",
        "    print(any(_.isalnum() for _ in s))\n",
        "    print(any(_.isalpha() for _ in s))\n",
        "    print(any(_.isdigit() for _ in s))\n",
        "    print(any(_.islower() for _ in s))\n",
        "    print(any(_.isupper() for _ in s))"
      ],
      "metadata": {
        "colab": {
          "base_uri": "https://localhost:8080/"
        },
        "id": "EPllxU-hNXJR",
        "outputId": "e7239848-cc69-417e-d44a-f7dfc545f475"
      },
      "execution_count": null,
      "outputs": [
        {
          "output_type": "stream",
          "name": "stdout",
          "text": [
            "aQ2\n",
            "True\n",
            "True\n",
            "True\n",
            "True\n",
            "True\n"
          ]
        }
      ]
    },
    {
      "cell_type": "markdown",
      "source": [
        "[Text Alignment](https://www.hackerrank.com/challenges/text-alignment/problem?isFullScreen=true)"
      ],
      "metadata": {
        "id": "VhBkfJDOdSlo"
      }
    },
    {
      "cell_type": "code",
      "source": [
        "#Replace all ______ with rjust, ljust or center.\n",
        "\n",
        "thickness = int(input()) #This must be an odd number\n",
        "c = 'H'\n",
        "\n",
        "#Top Cone\n",
        "for i in range(thickness):\n",
        "    print((c*i).rjust(thickness-1)+c+(c*i).ljust(thickness-1))\n",
        "\n",
        "#Top Pillars\n",
        "for i in range(thickness+1):\n",
        "    print((c*thickness).center(thickness*2)+(c*thickness).center(thickness*6))\n",
        "\n",
        "#Middle Belt\n",
        "for i in range((thickness+1)//2):\n",
        "    print((c*thickness*5).center(thickness*6))\n",
        "\n",
        "#Bottom Pillars\n",
        "for i in range(thickness+1):\n",
        "    print((c*thickness).center(thickness*2)+(c*thickness).center(thickness*6))\n",
        "\n",
        "#Bottom Cone\n",
        "for i in range(thickness):\n",
        "    print(((c*(thickness-i-1)).rjust(thickness)+c+(c*(thickness-i-1)).ljust(thickness)).rjust(thickness*6))"
      ],
      "metadata": {
        "id": "V8zHmamSdTiD",
        "colab": {
          "base_uri": "https://localhost:8080/"
        },
        "outputId": "91a28186-ce0a-4292-be9e-9249f86e47df"
      },
      "execution_count": 10,
      "outputs": [
        {
          "output_type": "stream",
          "name": "stdout",
          "text": [
            "3\n",
            "  H  \n",
            " HHH \n",
            "HHHHH\n",
            " HHH         HHH        \n",
            " HHH         HHH        \n",
            " HHH         HHH        \n",
            " HHH         HHH        \n",
            " HHHHHHHHHHHHHHH  \n",
            " HHHHHHHHHHHHHHH  \n",
            " HHH         HHH        \n",
            " HHH         HHH        \n",
            " HHH         HHH        \n",
            " HHH         HHH        \n",
            "            HHHHH \n",
            "             HHH  \n",
            "              H   \n"
          ]
        }
      ]
    },
    {
      "cell_type": "markdown",
      "source": [
        "[Text Wrap](https://www.hackerrank.com/challenges/text-wrap/problem?isFullScreen=true)"
      ],
      "metadata": {
        "id": "yLpRsfMDO-Ip"
      }
    },
    {
      "cell_type": "code",
      "source": [
        "import textwrap\n",
        "\n",
        "def wrap(string, max_width):\n",
        "    s = textwrap.fill(string,max_width)\n",
        "    return s\n",
        "\n",
        "if __name__ == '__main__':\n",
        "    string, max_width = input(), int(input())\n",
        "    result = wrap(string, max_width)\n",
        "    print(result)"
      ],
      "metadata": {
        "id": "syFmdm0-QPmN"
      },
      "execution_count": null,
      "outputs": []
    },
    {
      "cell_type": "code",
      "source": [
        "def wrap(string, max_width):\n",
        "    result=''\n",
        "    counter = 1\n",
        "    for i in range(len(string)):\n",
        "        if (i == counter*max_width):\n",
        "            result=result+'\\n'\n",
        "            counter = counter +1\n",
        "        result=result+string[i]\n",
        "    return result\n",
        "\n",
        "if __name__ == '__main__':\n",
        "    string, max_width = input(), int(input())\n",
        "    result = wrap(string, max_width)\n",
        "    print(result)"
      ],
      "metadata": {
        "colab": {
          "base_uri": "https://localhost:8080/"
        },
        "id": "dH_x45lwWNjb",
        "outputId": "28d3debf-a502-4e0e-9fb5-1958aab61e9a"
      },
      "execution_count": 2,
      "outputs": [
        {
          "output_type": "stream",
          "name": "stdout",
          "text": [
            "ABCDEFGHIJKLIMNOQRSTUVWXYZ\n",
            "4\n",
            "ABCD\n",
            "EFGH\n",
            "IJKL\n",
            "IMNO\n",
            "QRST\n",
            "UVWX\n",
            "YZ\n"
          ]
        }
      ]
    },
    {
      "cell_type": "markdown",
      "source": [
        "[Designer Door Mat](https://www.hackerrank.com/challenges/designer-door-mat/problem)"
      ],
      "metadata": {
        "id": "NvtYyZZzat8W"
      }
    },
    {
      "cell_type": "code",
      "source": [
        "n, m = input().split()\n",
        "n = int(n)\n",
        "m = int(m)\n",
        "for i in range(int(n)):\n",
        "  if i < n//2:\n",
        "    print(('.|.'* i).rjust((m-3)//2,'-')+'.|.'+('.|.'* i).ljust((m-3)//2,'-'))\n",
        "  elif i == n//2:\n",
        "    print('WELCOME'.center(m,'-'))\n",
        "  else:\n",
        "    print(('.|.'* (n-i-1)).rjust((m-3)//2,'-')+'.|.'+('.|.'* (n-i-1)).ljust((m-3)//2,'-'))"
      ],
      "metadata": {
        "colab": {
          "base_uri": "https://localhost:8080/"
        },
        "id": "qrY9osBMav3Q",
        "outputId": "991703a1-8baa-44a7-be47-ac9e5a33f998"
      },
      "execution_count": 45,
      "outputs": [
        {
          "output_type": "stream",
          "name": "stdout",
          "text": [
            "7 21\n",
            "---------.|.---------\n",
            "------.|..|..|.------\n",
            "---.|..|..|..|..|.---\n",
            "-------WELCOME-------\n",
            "---.|..|..|..|..|.---\n",
            "------.|..|..|.------\n",
            "---------.|.---------\n"
          ]
        }
      ]
    }
  ]
}